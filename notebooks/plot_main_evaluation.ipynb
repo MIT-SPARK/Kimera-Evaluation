{
 "cells": [
  {
   "cell_type": "code",
   "execution_count": null,
   "metadata": {},
   "outputs": [],
   "source": [
    "import yaml\n",
    "import os\n",
    "import logging\n",
    "import plotly\n",
    "import plotly.express as px\n",
    "import plotly.graph_objects as go\n",
    "import pandas as pd\n",
    "\n",
    "from evaluation.evaluation_lib import aggregate_all_results\n",
    "\n",
    "log = logging.getLogger(__name__)\n",
    "log.setLevel(logging.INFO)\n",
    "if not log.handlers:\n",
    "    ch = logging.StreamHandler()\n",
    "    ch.setLevel(logging.INFO)\n",
    "    ch.setFormatter(logging.Formatter('%(levelname)s - %(message)s'))\n",
    "    log.addHandler(ch)"
   ]
  },
  {
   "cell_type": "code",
   "execution_count": null,
   "metadata": {},
   "outputs": [],
   "source": [
    "# Parse experiment yaml file\n",
    "experiments_path=\"../experiments/full_euroc.yaml\"\n",
    "\n",
    "# Get experiment information from yaml file.\n",
    "experiment_params = yaml.load(open(experiments_path))\n",
    "\n",
    "# Get directory where all results are stored\n",
    "results_dir = os.path.expandvars(experiment_params['results_dir'])\n",
    "\n",
    "# Collect results\n",
    "stats = aggregate_all_results(results_dir)"
   ]
  },
  {
   "cell_type": "code",
   "execution_count": null,
   "metadata": {},
   "outputs": [],
   "source": [
    "# Store stats in a tidy Pandas DataFrame # TODO(Toni): this should be done in the evaluation_lib.py script...\n",
    "def listify_stats(stats):\n",
    "    \"\"\" Makes a list of lists out of the stats (for easy conversion into pandas dataframe) \"\"\"\n",
    "    stats_list = []\n",
    "    for dataset_name in stats:\n",
    "        for pipeline in stats[dataset_name]:\n",
    "            result = stats[dataset_name][pipeline]\n",
    "            if result != False:\n",
    "                result = result['absolute_errors'].np_arrays['error_array']\n",
    "                stats_list.append([dataset_name, pipeline, result])\n",
    "    return stats_list\n",
    "\n",
    "# Create or load Pandas DataFrame\n",
    "df = pd.DataFrame()\n",
    "log.info(\"Creating dataframe stats.\")\n",
    "df = pd.DataFrame.from_records(listify_stats(stats))\n",
    "df.columns = ['Dataset Name', 'Pipe Type', 'ATE errors']\n",
    "#df.set_index(['Dataset Name'], inplace = True)\n",
    "    \n",
    "    # Save dataframe as pickle for future use\n",
    "    #df.to_pickle(all_stats_pickle_dir)\n",
    "\n",
    "# Print df\n",
    "df"
   ]
  },
  {
   "cell_type": "code",
   "execution_count": null,
   "metadata": {},
   "outputs": [],
   "source": [
    "def boxplot(df):\n",
    "    tidy = df.set_index(['Dataset Name'])\n",
    "    tidy = tidy['ATE errors'].apply(lambda x: pd.Series(x)).stack().reset_index(level=1, drop=True).to_frame('ATE errors')\n",
    "    tidy.reset_index(level=['Dataset Name'], drop=False, inplace=True)\n",
    "    tidy.sort_values('Dataset Name', inplace=True)\n",
    "    fig = px.box(tidy, x='Dataset Name', y=\"ATE errors\", points=\"all\")\n",
    "\n",
    "    fig.update_layout(\n",
    "    title=go.layout.Title(\n",
    "        text=\"ATE in EuRoC dataset\"\n",
    "    ),\n",
    "    xaxis=go.layout.XAxis(\n",
    "        title=go.layout.xaxis.Title(\n",
    "            text='Datasets'\n",
    "        )\n",
    "    ),\n",
    "    yaxis=go.layout.YAxis(\n",
    "        title=go.layout.yaxis.Title(\n",
    "            text=\"ATE [m]\"\n",
    "            ),\n",
    "        rangemode='tozero'\n",
    "        ),\n",
    "    template='plotly_white'\n",
    "    )\n",
    "    return fig"
   ]
  },
  {
   "cell_type": "code",
   "execution_count": null,
   "metadata": {},
   "outputs": [],
   "source": [
    "# Generate figures\n",
    "figure = boxplot(df)"
   ]
  },
  {
   "cell_type": "code",
   "execution_count": null,
   "metadata": {},
   "outputs": [],
   "source": [
    "figure.show()"
   ]
  },
  {
   "cell_type": "code",
   "execution_count": null,
   "metadata": {},
   "outputs": [],
   "source": []
  },
  {
   "cell_type": "code",
   "execution_count": null,
   "metadata": {},
   "outputs": [],
   "source": []
  }
 ],
 "metadata": {
  "kernelspec": {
   "display_name": "Python 2",
   "language": "python",
   "name": "python2"
  },
  "language_info": {
   "codemirror_mode": {
    "name": "ipython",
    "version": 2
   },
   "file_extension": ".py",
   "mimetype": "text/x-python",
   "name": "python",
   "nbconvert_exporter": "python",
   "pygments_lexer": "ipython2",
   "version": "2.7.15rc1"
  }
 },
 "nbformat": 4,
 "nbformat_minor": 2
}
