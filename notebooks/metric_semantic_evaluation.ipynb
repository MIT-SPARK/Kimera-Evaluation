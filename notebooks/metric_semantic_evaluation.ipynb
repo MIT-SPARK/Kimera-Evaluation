{
 "cells": [
  {
   "cell_type": "code",
   "execution_count": 1,
   "metadata": {},
   "outputs": [
    {
     "name": "stderr",
     "output_type": "stream",
     "text": [
      "W1027 23:37:41.038026 21514 __init__.py:1410] /home/tonirv/Code/Kimera-VIO-Evaluation/evo-1/evo/tools/plot.py:33: UserWarning: \n",
      "This call to matplotlib.use() has no effect because the backend has already\n",
      "been chosen; matplotlib.use() must be called *before* pylab, matplotlib.pyplot,\n",
      "or matplotlib.backends is imported for the first time.\n",
      "\n",
      "The backend was *originally* set to 'module://ipykernel.pylab.backend_inline' by the following code:\n",
      "  File \"/usr/lib/python2.7/runpy.py\", line 174, in _run_module_as_main\n",
      "    \"__main__\", fname, loader, pkg_name)\n",
      "  File \"/usr/lib/python2.7/runpy.py\", line 72, in _run_code\n",
      "    exec code in run_globals\n",
      "  File \"/home/tonirv/Code/Kimera-VIO-Evaluation/venv/lib/python2.7/site-packages/ipykernel_launcher.py\", line 16, in <module>\n",
      "    app.launch_new_instance()\n",
      "  File \"/home/tonirv/Code/Kimera-VIO-Evaluation/venv/local/lib/python2.7/site-packages/traitlets/config/application.py\", line 664, in launch_instance\n",
      "    app.start()\n",
      "  File \"/home/tonirv/Code/Kimera-VIO-Evaluation/venv/local/lib/python2.7/site-packages/ipykernel/kernelapp.py\", line 499, in start\n",
      "    self.io_loop.start()\n",
      "  File \"/home/tonirv/Code/Kimera-VIO-Evaluation/venv/local/lib/python2.7/site-packages/tornado/ioloop.py\", line 1073, in start\n",
      "    handler_func(fd_obj, events)\n",
      "  File \"/home/tonirv/Code/Kimera-VIO-Evaluation/venv/local/lib/python2.7/site-packages/tornado/stack_context.py\", line 300, in null_wrapper\n",
      "    return fn(*args, **kwargs)\n",
      "  File \"/home/tonirv/Code/Kimera-VIO-Evaluation/venv/local/lib/python2.7/site-packages/zmq/eventloop/zmqstream.py\", line 456, in _handle_events\n",
      "    self._handle_recv()\n",
      "  File \"/home/tonirv/Code/Kimera-VIO-Evaluation/venv/local/lib/python2.7/site-packages/zmq/eventloop/zmqstream.py\", line 486, in _handle_recv\n",
      "    self._run_callback(callback, msg)\n",
      "  File \"/home/tonirv/Code/Kimera-VIO-Evaluation/venv/local/lib/python2.7/site-packages/zmq/eventloop/zmqstream.py\", line 438, in _run_callback\n",
      "    callback(*args, **kwargs)\n",
      "  File \"/home/tonirv/Code/Kimera-VIO-Evaluation/venv/local/lib/python2.7/site-packages/tornado/stack_context.py\", line 300, in null_wrapper\n",
      "    return fn(*args, **kwargs)\n",
      "  File \"/home/tonirv/Code/Kimera-VIO-Evaluation/venv/local/lib/python2.7/site-packages/ipykernel/kernelbase.py\", line 283, in dispatcher\n",
      "    return self.dispatch_shell(stream, msg)\n",
      "  File \"/home/tonirv/Code/Kimera-VIO-Evaluation/venv/local/lib/python2.7/site-packages/ipykernel/kernelbase.py\", line 233, in dispatch_shell\n",
      "    handler(stream, idents, msg)\n",
      "  File \"/home/tonirv/Code/Kimera-VIO-Evaluation/venv/local/lib/python2.7/site-packages/ipykernel/kernelbase.py\", line 399, in execute_request\n",
      "    user_expressions, allow_stdin)\n",
      "  File \"/home/tonirv/Code/Kimera-VIO-Evaluation/venv/local/lib/python2.7/site-packages/ipykernel/ipkernel.py\", line 208, in do_execute\n",
      "    res = shell.run_cell(code, store_history=store_history, silent=silent)\n",
      "  File \"/home/tonirv/Code/Kimera-VIO-Evaluation/venv/local/lib/python2.7/site-packages/ipykernel/zmqshell.py\", line 537, in run_cell\n",
      "    return super(ZMQInteractiveShell, self).run_cell(*args, **kwargs)\n",
      "  File \"/home/tonirv/Code/Kimera-VIO-Evaluation/venv/local/lib/python2.7/site-packages/IPython/core/interactiveshell.py\", line 2714, in run_cell\n",
      "    interactivity=interactivity, compiler=compiler, result=result)\n",
      "  File \"/home/tonirv/Code/Kimera-VIO-Evaluation/venv/local/lib/python2.7/site-packages/IPython/core/interactiveshell.py\", line 2818, in run_ast_nodes\n",
      "    if self.run_code(code, result):\n",
      "  File \"/home/tonirv/Code/Kimera-VIO-Evaluation/venv/local/lib/python2.7/site-packages/IPython/core/interactiveshell.py\", line 2878, in run_code\n",
      "    exec(code_obj, self.user_global_ns, self.user_ns)\n",
      "  File \"<ipython-input-1-68dfc1a3bf08>\", line 12, in <module>\n",
      "    from evaluation.tools.mesh import Mesh\n",
      "  File \"/home/tonirv/Code/Kimera-VIO-Evaluation/evaluation/__init__.py\", line 1, in <module>\n",
      "    from .evaluation_lib import DatasetEvaluator, aggregate_ape_results, aggregate_all_results\n",
      "  File \"/home/tonirv/Code/Kimera-VIO-Evaluation/evaluation/evaluation_lib.py\", line 11, in <module>\n",
      "    import matplotlib.pyplot as plt\n",
      "  File \"/home/tonirv/Code/Kimera-VIO-Evaluation/venv/local/lib/python2.7/site-packages/matplotlib/pyplot.py\", line 71, in <module>\n",
      "    from matplotlib.backends import pylab_setup\n",
      "  File \"/home/tonirv/Code/Kimera-VIO-Evaluation/venv/local/lib/python2.7/site-packages/matplotlib/backends/__init__.py\", line 17, in <module>\n",
      "    line for line in traceback.format_stack()\n",
      "\n",
      "\n",
      "  mpl.use(SETTINGS.plot_backend)\n",
      "\n"
     ]
    }
   ],
   "source": [
    "import numpy as np\n",
    "import os\n",
    "import glog as log\n",
    "import copy\n",
    "\n",
    "from tqdm import tqdm\n",
    "\n",
    "import open3d as o3d\n",
    "from open3d import JVisualizer\n",
    "import pandas as pd\n",
    "\n",
    "from evaluation.tools.mesh import Mesh\n",
    "from evaluation.tools.mesh_evaluator import MeshEvaluator\n",
    "\n",
    "# Rotation matrices:\n",
    "# East North Up (ENU) frame to Unity's world frame of reference\n",
    "enu_R_unity = np.array([[1, 0, 0],\n",
    "                        [0, 0, 1],\n",
    "                        [0, 1, 0]])\n",
    "unity_R_enu = np.transpose(enu_R_unity)\n",
    "\n",
    "# Right Handed frame to Unity's Left Handed frame of reference\n",
    "righthand_R_lefthand = np.array([[1, 0, 0],\n",
    "                                 [0, -1, 0],\n",
    "                                 [0, 0, 1]])\n",
    "lefthand_R_righthand = np.transpose(righthand_R_lefthand)"
   ]
  },
  {
   "cell_type": "code",
   "execution_count": 2,
   "metadata": {},
   "outputs": [
    {
     "ename": "TypeError",
     "evalue": "__init__() takes exactly 3 arguments (4 given)",
     "output_type": "error",
     "traceback": [
      "\u001b[0;31m---------------------------------------------------------------------------\u001b[0m",
      "\u001b[0;31mTypeError\u001b[0m                                 Traceback (most recent call last)",
      "\u001b[0;32m<ipython-input-2-bd014afd34ef>\u001b[0m in \u001b[0;36m<module>\u001b[0;34m()\u001b[0m\n\u001b[1;32m      5\u001b[0m \u001b[0msemantic_labels_csv_path\u001b[0m\u001b[0;34m=\u001b[0m\u001b[0;34m\"/home/tonirv/Code/ROS/kimera_ws/src/Kimera-Semantics/kimera_semantics_ros/cfg/tesse_multiscene_archviz1_segmentation_mapping.csv\"\u001b[0m\u001b[0;34m\u001b[0m\u001b[0m\n\u001b[1;32m      6\u001b[0m \u001b[0;34m\u001b[0m\u001b[0m\n\u001b[0;32m----> 7\u001b[0;31m \u001b[0mmesh_eval\u001b[0m \u001b[0;34m=\u001b[0m \u001b[0mMeshEvaluator\u001b[0m\u001b[0;34m(\u001b[0m\u001b[0mest_mesh_path\u001b[0m\u001b[0;34m,\u001b[0m \u001b[0mgt_mesh_path\u001b[0m\u001b[0;34m,\u001b[0m \u001b[0msemantic_labels_csv_path\u001b[0m\u001b[0;34m)\u001b[0m\u001b[0;34m\u001b[0m\u001b[0m\n\u001b[0m\u001b[1;32m      8\u001b[0m \u001b[0mmesh_eval\u001b[0m\u001b[0;34m.\u001b[0m\u001b[0mcompare_meshes\u001b[0m\u001b[0;34m(\u001b[0m\u001b[0;34m)\u001b[0m\u001b[0;34m\u001b[0m\u001b[0m\n",
      "\u001b[0;31mTypeError\u001b[0m: __init__() takes exactly 3 arguments (4 given)"
     ]
    }
   ],
   "source": [
    "# FILL PATHS BELOW\n",
    "est_mesh_path = \"/home/tonirv/Documents/uHumans2_VIO_vxblx/apartment_scene/uHumans2_apartment_s1_00h/mesh_DVIO.ply\"\n",
    "gt_mesh_path = \"/home/tonirv/datasets/uHumans2/uHumans dataset V2.0 GT Meshes/apartment.ply\"\n",
    "visualize = False\n",
    "semantic_labels_csv_path=\"/home/tonirv/Code/ROS/kimera_ws/src/Kimera-Semantics/kimera_semantics_ros/cfg/tesse_multiscene_archviz1_segmentation_mapping.csv\"\n",
    "\n",
    "mesh_eval = MeshEvaluator(est_mesh_path, gt_mesh_path, semantic_labels_csv_path)\n",
    "mesh_eval.compare_meshes()\n"
   ]
  },
  {
   "cell_type": "code",
   "execution_count": 3,
   "metadata": {},
   "outputs": [
    {
     "name": "stdout",
     "output_type": "stream",
     "text": [
      "Loading Ground-truth mesh...\n",
      "Testing mesh in open3d ...\n",
      "geometry::TriangleMesh with 3614874 points and 1204958 triangles.\n",
      "[[-3.492602  1.141617 -2.445021]\n",
      " [-3.492603  1.141617 -2.232179]\n",
      " [-3.663522  1.141617 -2.232179]\n",
      " ...\n",
      " [ 1.889433  4.119683 -4.40081 ]\n",
      " [ 1.888442  4.12226  -4.400809]\n",
      " [ 1.888441  4.120533 -4.400809]]\n",
      "[[      0       1       2]\n",
      " [      3       4       5]\n",
      " [      6       7       8]\n",
      " ...\n",
      " [3614865 3614866 3614867]\n",
      " [3614868 3614869 3614870]\n",
      " [3614871 3614872 3614873]]\n",
      "\n",
      "Loading Estimated mesh...\n",
      "Testing mesh in open3d ...\n",
      "geometry::TriangleMesh with 495836 points and 509972 triangles.\n",
      "[[-3.175      0.025      2.72252  ]\n",
      " [-3.125      0.075      2.72331  ]\n",
      " [-3.125      0.025      2.72292  ]\n",
      " ...\n",
      " [-0.0393173 -2.175      1.575    ]\n",
      " [-0.0348831 -2.125      1.575    ]\n",
      " [-0.025     -2.099      1.575    ]]\n",
      "[[     0      1      2]\n",
      " [     0      3      1]\n",
      " [     3      4      1]\n",
      " ...\n",
      " [473080 495832 473081]\n",
      " [473117 473118 495834]\n",
      " [495834 473118 495835]]\n",
      "\n"
     ]
    }
   ],
   "source": [
    "print(\"Loading Ground-truth mesh...\")\n",
    "gt_mesh_original = Mesh(gt_mesh_path)\n",
    "print(\"Loading Estimated mesh...\")\n",
    "est_mesh_original = Mesh(est_mesh_path)"
   ]
  },
  {
   "cell_type": "code",
   "execution_count": 4,
   "metadata": {},
   "outputs": [],
   "source": [
    "# Transform Meshes to same frame of reference\n",
    "gt_mesh = copy.deepcopy(gt_mesh_original)\n",
    "est_mesh = copy.deepcopy(est_mesh_original)"
   ]
  },
  {
   "cell_type": "code",
   "execution_count": 5,
   "metadata": {},
   "outputs": [
    {
     "name": "stdout",
     "output_type": "stream",
     "text": [
      "Transforming mesh according to left matrix:\n",
      "[[1 0 0]\n",
      " [0 0 1]\n",
      " [0 1 0]]\n"
     ]
    }
   ],
   "source": [
    "# Align Pointclouds Manually:\n",
    "# est_mesh.mesh_o3d.translate([0, -5, 0])\n",
    "# gt_mesh.transform_left(righthand_R_lefthand)\n",
    "gt_mesh.transform_left(enu_R_unity)"
   ]
  },
  {
   "cell_type": "code",
   "execution_count": 6,
   "metadata": {},
   "outputs": [],
   "source": [
    "if visualize:\n",
    "    vis = o3d.visualization.Visualizer()\n",
    "    vis.create_window()\n",
    "    vis.get_render_option().mesh_show_back_face = True\n",
    "    vis.add_geometry(est_mesh.mesh_o3d)\n",
    "    vis.add_geometry(gt_mesh.mesh_o3d)\n",
    "    vis.add_geometry(o3d.geometry.create_mesh_coordinate_frame(size=4))\n",
    "    vis.run()\n",
    "    vis.destroy_window()"
   ]
  },
  {
   "cell_type": "code",
   "execution_count": 7,
   "metadata": {},
   "outputs": [],
   "source": [
    "NUMBER_OF_SAMPLES=1000000\n",
    "gt_pcl = o3d.geometry.sample_points_uniformly(gt_mesh.mesh_o3d, NUMBER_OF_SAMPLES)\n",
    "# Don't sample estimated mesh, just pick vertices, otw you'll be mixing colors...\n",
    "# est_pcl = o3d.geometry.sample_points_uniformly(est_mesh.mesh_o3d, NUMBER_OF_SAMPLES)\n",
    "est_pcl = o3d.io.read_point_cloud(est_mesh_path)"
   ]
  },
  {
   "cell_type": "code",
   "execution_count": 8,
   "metadata": {},
   "outputs": [],
   "source": [
    "# Calculate normals for nice visualization\n",
    "# THIS COLORS THE PCL?????\n",
    "#o3d.geometry.estimate_normals(\n",
    "#        est_pcl,\n",
    "#        search_param=o3d.geometry.KDTreeSearchParamHybrid(radius=0.1,\n",
    "#                                                          max_nn=5))\n",
    "#o3d.geometry.estimate_normals(\n",
    "#        gt_pcl,\n",
    "#        search_param=o3d.geometry.KDTreeSearchParamHybrid(radius=0.1,\n",
    "#                                                          max_nn=5))"
   ]
  },
  {
   "cell_type": "code",
   "execution_count": 9,
   "metadata": {},
   "outputs": [],
   "source": [
    "if visualize:\n",
    "    vis = o3d.visualization.Visualizer()\n",
    "    vis.create_window()\n",
    "    vis.get_render_option().mesh_show_back_face = True\n",
    "    vis.add_geometry(gt_pcl)\n",
    "    vis.add_geometry(est_pcl)\n",
    "    vis.run()\n",
    "    vis.destroy_window()"
   ]
  },
  {
   "cell_type": "code",
   "execution_count": 10,
   "metadata": {},
   "outputs": [],
   "source": [
    "# ICP\n",
    "def draw_registration_result(source, target, transformation):\n",
    "    source_temp = copy.deepcopy(source)\n",
    "    target_temp = copy.deepcopy(target)\n",
    "    source_temp.paint_uniform_color([1, 0.706, 0])\n",
    "    target_temp.paint_uniform_color([0, 0.651, 0.929])\n",
    "    source_temp.transform(transformation)\n",
    "    o3d.visualization.draw_geometries([source_temp, target_temp])\n",
    "    \n",
    "def draw_correspondences(source, target, correspondences):\n",
    "    source_temp = copy.deepcopy(source)\n",
    "    target_temp = copy.deepcopy(target)\n",
    "    #source_temp.paint_uniform_color([1, 0.706, 0])\n",
    "    #target_temp.paint_uniform_color([0, 0.651, 0.929])\n",
    "    o3d.visualization.draw_geometries([source_temp, #target_temp, \n",
    "                                       correspondences])"
   ]
  },
  {
   "cell_type": "code",
   "execution_count": 11,
   "metadata": {},
   "outputs": [],
   "source": [
    "# ICP params\n",
    "ICP_THRESHOLD = 1.5\n",
    "trans_init = np.asarray([[1.0, 0.0, 0.0, 0.0],\n",
    "                         [0.0, 1.0, 0.0, 0.0],\n",
    "                         [0.0, 0.0, 1.0, 0.0],\n",
    "                         [0.0, 0.0, 0.0, 1.0]])"
   ]
  },
  {
   "cell_type": "code",
   "execution_count": 12,
   "metadata": {},
   "outputs": [],
   "source": [
    "# Visualize initial registration problem\n",
    "if visualize:\n",
    "    draw_registration_result(est_pcl, gt_pcl, trans_init)"
   ]
  },
  {
   "cell_type": "code",
   "execution_count": 13,
   "metadata": {},
   "outputs": [],
   "source": [
    "# Evaluate current fit between pointclouds\n",
    "evaluation = o3d.registration.evaluate_registration(est_pcl, gt_pcl, ICP_THRESHOLD, trans_init)"
   ]
  },
  {
   "cell_type": "code",
   "execution_count": 14,
   "metadata": {},
   "outputs": [
    {
     "name": "stdout",
     "output_type": "stream",
     "text": [
      "Initial registration\n",
      "registration::RegistrationResult with fitness = 1.000000, inlier_rmse = 0.141719, and correspondence_set size of 495836\n",
      "Access transformation to get result.\n"
     ]
    }
   ],
   "source": [
    "print(\"Initial registration\")\n",
    "print(evaluation)"
   ]
  },
  {
   "cell_type": "code",
   "execution_count": 15,
   "metadata": {},
   "outputs": [
    {
     "name": "stdout",
     "output_type": "stream",
     "text": [
      "Apply point-to-point ICP\n"
     ]
    }
   ],
   "source": [
    "print(\"Apply point-to-point ICP\")\n",
    "reg_p2p = o3d.registration.registration_icp(\n",
    "    est_pcl, gt_pcl, ICP_THRESHOLD, trans_init,\n",
    "    o3d.registration.TransformationEstimationPointToPoint(),\n",
    "    o3d.registration.ICPConvergenceCriteria(max_iteration = 2000))\n",
    "correspondences = reg_p2p.correspondence_set"
   ]
  },
  {
   "cell_type": "code",
   "execution_count": 16,
   "metadata": {},
   "outputs": [
    {
     "name": "stdout",
     "output_type": "stream",
     "text": [
      "registration::RegistrationResult with fitness = 1.000000, inlier_rmse = 0.131178, and correspondence_set size of 495836\n",
      "Access transformation to get result.\n",
      "\n",
      "Transformation is:\n",
      "[[ 0.99990001  0.01407646 -0.00135215  0.1257669 ]\n",
      " [-0.01404803  0.99971831  0.01913011 -0.14393054]\n",
      " [ 0.00162105 -0.0191092   0.99981609 -0.01693472]\n",
      " [ 0.          0.          0.          1.        ]]\n",
      "\n",
      "Correspondence Set:\n",
      "std::vector<Eigen::Vector2i> with 495836 elements.\n",
      "Use numpy.asarray() to access data.\n",
      "\n"
     ]
    }
   ],
   "source": [
    "print(reg_p2p)\n",
    "print(\"\")\n",
    "\n",
    "print(\"Transformation is:\")\n",
    "print(reg_p2p.transformation)\n",
    "print(\"\")\n",
    "\n",
    "print(\"Correspondence Set:\")\n",
    "print(reg_p2p.correspondence_set)\n",
    "print(\"\")"
   ]
  },
  {
   "cell_type": "code",
   "execution_count": 17,
   "metadata": {},
   "outputs": [],
   "source": [
    "# Draw Registration Result\n",
    "if visualize:\n",
    "    draw_registration_result(est_pcl, gt_pcl, reg_p2p.transformation)"
   ]
  },
  {
   "cell_type": "code",
   "execution_count": 18,
   "metadata": {},
   "outputs": [],
   "source": [
    "# Draw Only Correspondences\n",
    "if visualize:\n",
    "    c2c_lines = o3d.geometry.create_line_set_from_point_cloud_correspondences(est_pcl, gt_pcl, correspondences)\n",
    "    o3d.visualization.draw_geometries([c2c_lines])"
   ]
  },
  {
   "cell_type": "code",
   "execution_count": 19,
   "metadata": {},
   "outputs": [],
   "source": [
    "# Draw PointClouds and Correspondences\n",
    "if visualize:\n",
    "    draw_correspondences(est_pcl, gt_pcl, c2c_lines)"
   ]
  },
  {
   "cell_type": "code",
   "execution_count": 20,
   "metadata": {},
   "outputs": [],
   "source": [
    "# Import Semantic Labels\n",
    "df = pd.read_csv(semantic_labels_csv_path)\n",
    "#df"
   ]
  },
  {
   "cell_type": "code",
   "execution_count": 21,
   "metadata": {},
   "outputs": [
    {
     "name": "stdout",
     "output_type": "stream",
     "text": [
      "0\n"
     ]
    }
   ],
   "source": [
    "normalized_df = copy.deepcopy(df)\n",
    "normalized_df['normalized_red'] = df['red'] / 255\n",
    "normalized_df['normalized_green'] = df['green'] / 255\n",
    "normalized_df['normalized_blue'] = df['blue'] / 255\n",
    "\n",
    "normalized_df['normalized_red'] = normalized_df['normalized_red'].apply(lambda x: round(x, 5))\n",
    "normalized_df['normalized_green'] = normalized_df['normalized_green'].apply(lambda x: round(x, 5))\n",
    "normalized_df['normalized_blue'] = normalized_df['normalized_blue'].apply(lambda x: round(x, 5))\n",
    "\n",
    "print(sum(np.isclose(normalized_df['normalized_red'], gt_pcl.colors[0][0])))\n",
    "\n",
    "#normalized_df"
   ]
  },
  {
   "cell_type": "code",
   "execution_count": 22,
   "metadata": {},
   "outputs": [],
   "source": [
    "# No need to hash, we have ids now\n",
    "red_col = df['red'].to_numpy()\n",
    "blue_col = df['blue'].to_numpy()\n",
    "green_col = df['green'].to_numpy()\n",
    "\n",
    "def f(x):    \n",
    "    return str(x['normalized_red'])+str(x['normalized_green'])+str(x['normalized_blue'])\n",
    "\n",
    "hashed_df = copy.deepcopy(normalized_df)\n",
    "hashed_df['hash'] = hashed_df.apply(f, axis=1)\n",
    "#hashed_df"
   ]
  },
  {
   "cell_type": "code",
   "execution_count": 23,
   "metadata": {},
   "outputs": [],
   "source": [
    "# Generate table from color to id.\n",
    "def label_from_color(color):\n",
    "    # TODO(Toni): do you need to round again? isn't color already rounded?\n",
    "    norm_r = round(color[0], 5)\n",
    "    norm_g = round(color[1], 5)\n",
    "    norm_b = round(color[2], 5)\n",
    "    # TODO(Toni): can be greatly optimized... TOO SLOW NOW\n",
    "    # TODO(Toni): you are comparing floats with == ......\n",
    "    label_list = normalized_df.loc[(normalized_df['normalized_red'] == norm_r) & \n",
    "                  (normalized_df['normalized_green'] == norm_g) & \n",
    "                  (normalized_df['normalized_blue'] == norm_b)]['id'].unique().tolist()\n",
    "    assert(len(label_list) > 0)\n",
    "    return label_list[0]"
   ]
  },
  {
   "cell_type": "code",
   "execution_count": 24,
   "metadata": {},
   "outputs": [],
   "source": [
    "def calc_corresp(est_pcl, gt_pcl, correspondences):\n",
    "    total_negative_matches = 0\n",
    "    total_positive_matches = 0\n",
    "    total_correspondences = len(correspondences)\n",
    "    \n",
    "    # Compare labels between correspondences:\n",
    "# Initialize dictionaries to 0:\n",
    "    total_label_correspondences = {i:0 for i in normalized_df['id'].unique()}\n",
    "    total_label_positive_matches = copy.deepcopy(total_label_correspondences)\n",
    "    total_label_negative_matches = copy.deepcopy(total_label_correspondences)\n",
    "    /la\n",
    "    print(\"Total number of correspondences: \", total_correspondences)\n",
    "    for correspondence in tqdm(correspondences):\n",
    "        assert(len(correspondence) == 2)\n",
    "        assert(correspondence[0] < len(est_pcl.colors))\n",
    "        assert(correspondence[1] < len(gt_pcl.colors))\n",
    "        est_label_id = label_from_color(est_pcl.colors[correspondence[0]])\n",
    "        gt_label_id = label_from_color(gt_pcl.colors[correspondence[1]])\n",
    "        if est_label_id == gt_label_id:\n",
    "            total_positive_matches += 1\n",
    "            total_label_positive_matches[est_label_id] += 1\n",
    "        else: \n",
    "            total_negative_matches += 1\n",
    "            total_label_negative_matches[est_label_id] += 1\n",
    "\n",
    "    print(\"Positive matches: \", total_positive_matches)\n",
    "    print(\"Negative matches: \", total_negative_matches)\n",
    "    print(\"Total correspondences: \", total_correspondences)\n",
    "    assert(total_correspondences == total_negative_matches + total_positive_matches)\n",
    "    print (\"Positive [%]: \", (total_positive_matches / total_correspondences * 100))\n",
    "    print (\"Negative [%]: \", (total_negative_matches / total_correspondences * 100))"
   ]
  },
  {
   "cell_type": "code",
   "execution_count": 25,
   "metadata": {},
   "outputs": [
    {
     "name": "stdout",
     "output_type": "stream",
     "text": [
      "('Total number of correspondences: ', 495836)\n"
     ]
    },
    {
     "name": "stderr",
     "output_type": "stream",
     "text": [
      "100%|██████████| 495836/495836 [22:40<00:00, 364.55it/s]"
     ]
    },
    {
     "name": "stdout",
     "output_type": "stream",
     "text": [
      "('Positive matches: ', 294371)\n",
      "('Negative matches: ', 201465)\n",
      "('Total correspondences: ', 495836)\n",
      "('Positive [%]: ', 0)\n",
      "('Negative [%]: ', 0)\n"
     ]
    },
    {
     "name": "stderr",
     "output_type": "stream",
     "text": [
      "\n"
     ]
    }
   ],
   "source": [
    "calc_corresp(est_pcl, gt_pcl, correspondences)"
   ]
  },
  {
   "cell_type": "code",
   "execution_count": 26,
   "metadata": {},
   "outputs": [],
   "source": [
    "def calc_per_label_corresp(est_pcl, gt_pcl, correspondences):\n",
    "    for correspondence in tqdm(correspondences):\n",
    "        est_pcl_color = est_pcl.colors[correspondence[0]]\n",
    "        #color_hash = str(est_pcl_color[0])+str(est_pcl_color[1])+str(est_pcl_color[2])\n",
    "        label_id = label_from_color(est_pcl_color)\n",
    "        if np.allclose(est_pcl_color, gt_pcl.colors[correspondence[1]]):\n",
    "            total_positive_matches[label_id] += 1\n",
    "        else:\n",
    "            total_negative_matches[label_id] += 1"
   ]
  },
  {
   "cell_type": "code",
   "execution_count": 27,
   "metadata": {},
   "outputs": [
    {
     "name": "stderr",
     "output_type": "stream",
     "text": [
      "  0%|          | 0/495836 [00:00<?, ?it/s]\n"
     ]
    },
    {
     "ename": "NameError",
     "evalue": "global name 'total_negative_matches' is not defined",
     "output_type": "error",
     "traceback": [
      "\u001b[0;31m---------------------------------------------------------------------------\u001b[0m",
      "\u001b[0;31mNameError\u001b[0m                                 Traceback (most recent call last)",
      "\u001b[0;32m<ipython-input-27-0bcff206234b>\u001b[0m in \u001b[0;36m<module>\u001b[0;34m()\u001b[0m\n\u001b[0;32m----> 1\u001b[0;31m \u001b[0mcalc_per_label_corresp\u001b[0m\u001b[0;34m(\u001b[0m\u001b[0mest_pcl\u001b[0m\u001b[0;34m,\u001b[0m \u001b[0mgt_pcl\u001b[0m\u001b[0;34m,\u001b[0m \u001b[0mcorrespondences\u001b[0m\u001b[0;34m)\u001b[0m\u001b[0;34m\u001b[0m\u001b[0m\n\u001b[0m",
      "\u001b[0;32m<ipython-input-26-549ea5ce8966>\u001b[0m in \u001b[0;36mcalc_per_label_corresp\u001b[0;34m(est_pcl, gt_pcl, correspondences)\u001b[0m\n\u001b[1;32m      7\u001b[0m             \u001b[0mtotal_positive_matches\u001b[0m\u001b[0;34m[\u001b[0m\u001b[0mlabel_id\u001b[0m\u001b[0;34m]\u001b[0m \u001b[0;34m+=\u001b[0m \u001b[0;36m1\u001b[0m\u001b[0;34m\u001b[0m\u001b[0m\n\u001b[1;32m      8\u001b[0m         \u001b[0;32melse\u001b[0m\u001b[0;34m:\u001b[0m\u001b[0;34m\u001b[0m\u001b[0m\n\u001b[0;32m----> 9\u001b[0;31m             \u001b[0mtotal_negative_matches\u001b[0m\u001b[0;34m[\u001b[0m\u001b[0mlabel_id\u001b[0m\u001b[0;34m]\u001b[0m \u001b[0;34m+=\u001b[0m \u001b[0;36m1\u001b[0m\u001b[0;34m\u001b[0m\u001b[0m\n\u001b[0m",
      "\u001b[0;31mNameError\u001b[0m: global name 'total_negative_matches' is not defined"
     ]
    }
   ],
   "source": [
    "calc_per_label_corresp(est_pcl, gt_pcl, correspondences)"
   ]
  },
  {
   "cell_type": "code",
   "execution_count": null,
   "metadata": {},
   "outputs": [],
   "source": [
    "for label_id in df['id'].unique().tolist():\n",
    "    total_label_correspondences[label_id] = (total_positive_matches[label_id] + total_negative_matches[label_id])\n",
    "print(\"Dict for total_label_correspondences: \\n\", total_label_correspondences)\n",
    "positive_match = 0\n",
    "negative_match = 0\n",
    "correspondences = 0\n",
    "for label_id in tqdm(df['id'].unique().tolist()):\n",
    "    positive_match += total_label_positive_matches[label_id]\n",
    "    negative_match += total_label_negative_matches[label_id]\n",
    "    correspondences += total_label_correspondences[label_id]\n",
    "    if (total_label_correspondences[label_id] > 0):\n",
    "        print (\"ID: {}\".format(label_id))\n",
    "        print (\"Positive: {}  % \".format(total_positive_matches[label_id] / total_label_correspondences[label_id] * 100))\n",
    "        print (\"Negative: {}  % \".format(total_negative_matches[label_id] / total_label_correspondences[label_id] * 100))\n",
    "print(\"Summary Positive label matches: {} % \".format(positive_match / correspondences * 100))\n",
    "print(\"Summary Negative label matches: {} % \".format(negative_match / correspondences * 100))"
   ]
  }
 ],
 "metadata": {
  "kernelspec": {
   "display_name": "Python 2",
   "language": "python",
   "name": "python2"
  },
  "language_info": {
   "codemirror_mode": {
    "name": "ipython",
    "version": 2
   },
   "file_extension": ".py",
   "mimetype": "text/x-python",
   "name": "python",
   "nbconvert_exporter": "python",
   "pygments_lexer": "ipython2",
   "version": "2.7.15+"
  }
 },
 "nbformat": 4,
 "nbformat_minor": 2
}
