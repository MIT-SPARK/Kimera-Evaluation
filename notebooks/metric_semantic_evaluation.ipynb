{
 "cells": [
  {
   "cell_type": "code",
   "execution_count": 1,
   "metadata": {},
   "outputs": [],
   "source": [
    "import numpy as np\n",
    "import os\n",
    "import glog as log\n",
    "import copy\n",
    "\n",
    "import open3d as o3d\n",
    "from open3d import JVisualizer\n",
    "import pandas as pd\n",
    "\n",
    "from evaluation.tools.mesh import Mesh\n",
    "from evaluation.tools.mesh_evaluator import MeshEvaluator\n",
    "\n",
    "# Rotation matrices:\n",
    "# East North Up (ENU) frame to Unity's world frame of reference\n",
    "enu_R_unity = np.array([[1, 0, 0],\n",
    "                        [0, 0, 1],\n",
    "                        [0, 1, 0]])\n",
    "unity_R_enu = np.transpose(enu_R_unity)\n",
    "\n",
    "# Right Handed frame to Unity's Left Handed frame of reference\n",
    "righthand_R_lefthand = np.array([[1, 0, 0],\n",
    "                                 [0, -1, 0],\n",
    "                                 [0, 0, 1]])\n",
    "lefthand_R_righthand = np.transpose(righthand_R_lefthand)"
   ]
  },
  {
   "cell_type": "code",
   "execution_count": 2,
   "metadata": {},
   "outputs": [],
   "source": [
    "# FILL PATHS BELOW\n",
    "#gt_mesh_path = \"/home/tonirv/Downloads/tesse_multiscene_office1_3d_semantic_v5.ply\"\n",
    "#est_mesh_path = \"/home/tonirv/Downloads/tesse_semantics_2.ply\"\n",
    "\n",
    "#gt_mesh_path = \"/home/tonirv/Code/ROS/flight_goggles_ws/src/voxblox/voxblox_ros/mesh_results/semantic_mesh_tonirv_ld_9118_6487309760727328010.ply\"\n",
    "#est_mesh_path = \"/home/tonirv/Code/ROS/flight_goggles_ws/src/voxblox/voxblox_ros/mesh_results/semantic_mesh_tonirv_ld_9118_6487309760727328010.ply\"\n",
    "\n",
    "gt_mesh_path = \"/home/yunchang/Downloads/subway.ply\"\n",
    "est_mesh_path = \"/home/yunchang/Downloads/uHumans2_subway_s1_00h.ply\"\n",
    "\n",
    "# gt_mesh_path = \"/home/yunchang/Desktop/uhumans1/office1_tony.ply\"\n",
    "# est_mesh_path = \"/home/yunchang/Desktop/uhumans1/tesse_yunchang_ThinkPad_P72_8018_3440445341542521530.ply\""
   ]
  },
  {
   "cell_type": "code",
   "execution_count": 3,
   "metadata": {},
   "outputs": [
    {
     "name": "stdout",
     "output_type": "stream",
     "text": [
      "Loading Ground-truth mesh...\n",
      "Testing mesh in open3d ...\n",
      "geometry::TriangleMesh with 3235419 points and 1078473 triangles.\n",
      "[[-35.02077   -6.990101 -42.77373 ]\n",
      " [-35.02077   -6.990101 -43.41461 ]\n",
      " [-35.66165   -6.990101 -43.41461 ]\n",
      " ...\n",
      " [-54.00388  -16.80481   36.92789 ]\n",
      " [-58.00388  -16.79861   36.90939 ]\n",
      " [-54.00388  -16.79861   36.9094  ]]\n",
      "[[      0       1       2]\n",
      " [      3       4       5]\n",
      " [      6       7       8]\n",
      " ...\n",
      " [3235410 3235411 3235412]\n",
      " [3235413 3235414 3235415]\n",
      " [3235416 3235417 3235418]]\n",
      "\n",
      "Loading Estimated mesh...\n",
      "Testing mesh in open3d ...\n",
      "geometry::TriangleMesh with 6206230 points and 7157447 triangles.\n",
      "[[-2.27250e+01  1.52899e+01 -8.42500e+00]\n",
      " [-2.27274e+01  1.53250e+01 -8.42500e+00]\n",
      " [-2.27250e+01  1.53250e+01 -8.44667e+00]\n",
      " ...\n",
      " [-3.27250e+01  2.34250e+01  2.29971e-02]\n",
      " [-3.27750e+01  2.34219e+01  2.50000e-02]\n",
      " [-3.23750e+01  2.33902e+01 -2.50000e-02]]\n",
      "[[      0       1       2]\n",
      " [      3       1       0]\n",
      " [      1       4       2]\n",
      " ...\n",
      " [6206227 6206215 6206228]\n",
      " [6206227 6206214 6206215]\n",
      " [6206224 6206229 6206225]]\n",
      "\n"
     ]
    }
   ],
   "source": [
    "print(\"Loading Ground-truth mesh...\")\n",
    "gt_mesh_original = Mesh(gt_mesh_path)\n",
    "print(\"Loading Estimated mesh...\")\n",
    "est_mesh_original = Mesh(est_mesh_path)"
   ]
  },
  {
   "cell_type": "code",
   "execution_count": 4,
   "metadata": {},
   "outputs": [],
   "source": [
    "# Transform Meshes to same frame of reference\n",
    "gt_mesh = copy.deepcopy(gt_mesh_original)\n",
    "est_mesh = copy.deepcopy(est_mesh_original)"
   ]
  },
  {
   "cell_type": "code",
   "execution_count": 5,
   "metadata": {},
   "outputs": [
    {
     "name": "stdout",
     "output_type": "stream",
     "text": [
      "Transforming mesh according to left matrix:\n",
      "[[1 0 0]\n",
      " [0 0 1]\n",
      " [0 1 0]]\n"
     ]
    }
   ],
   "source": [
    "# Align Pointclouds Manually:\n",
    "# est_mesh.mesh_o3d.translate([0, -5, 0])\n",
    "# gt_mesh.transform_left(righthand_R_lefthand)\n",
    "gt_mesh.transform_left(enu_R_unity)"
   ]
  },
  {
   "cell_type": "code",
   "execution_count": 6,
   "metadata": {},
   "outputs": [],
   "source": [
    "vis = o3d.visualization.Visualizer()\n",
    "vis.create_window()\n",
    "vis.get_render_option().mesh_show_back_face = True\n",
    "vis.add_geometry(est_mesh.mesh_o3d)\n",
    "vis.add_geometry(gt_mesh.mesh_o3d)\n",
    "vis.add_geometry(o3d.geometry.create_mesh_coordinate_frame(size=4))\n",
    "vis.run()\n",
    "vis.destroy_window()"
   ]
  },
  {
   "cell_type": "code",
   "execution_count": 7,
   "metadata": {},
   "outputs": [],
   "source": [
    "NUMBER_OF_SAMPLES=1000000\n",
    "gt_pcl = o3d.geometry.sample_points_uniformly(gt_mesh.mesh_o3d, NUMBER_OF_SAMPLES)\n",
    "# Don't sample estimated mesh, just pick vertices, otw you'll be mixing colors...\n",
    "# est_pcl = o3d.geometry.sample_points_uniformly(est_mesh.mesh_o3d, NUMBER_OF_SAMPLES)\n",
    "est_pcl = o3d.io.read_point_cloud(est_mesh_path)"
   ]
  },
  {
   "cell_type": "code",
   "execution_count": 8,
   "metadata": {},
   "outputs": [],
   "source": [
    "# Calculate normals for nice visualization\n",
    "# THIS COLORS THE PCL?>>>>>????\n",
    "#o3d.geometry.estimate_normals(\n",
    "#        est_pcl,\n",
    "#        search_param=o3d.geometry.KDTreeSearchParamHybrid(radius=0.1,\n",
    "#                                                          max_nn=5))\n",
    "#o3d.geometry.estimate_normals(\n",
    "#        gt_pcl,\n",
    "#        search_param=o3d.geometry.KDTreeSearchParamHybrid(radius=0.1,\n",
    "#                                                          max_nn=5))"
   ]
  },
  {
   "cell_type": "code",
   "execution_count": 9,
   "metadata": {},
   "outputs": [],
   "source": [
    "vis = o3d.visualization.Visualizer()\n",
    "vis.create_window()\n",
    "vis.get_render_option().mesh_show_back_face = True\n",
    "vis.add_geometry(gt_pcl)\n",
    "vis.add_geometry(est_pcl)\n",
    "vis.run()\n",
    "vis.destroy_window()"
   ]
  },
  {
   "cell_type": "code",
   "execution_count": 10,
   "metadata": {},
   "outputs": [],
   "source": [
    "# ICP\n",
    "def draw_registration_result(source, target, transformation):\n",
    "    source_temp = copy.deepcopy(source)\n",
    "    target_temp = copy.deepcopy(target)\n",
    "    source_temp.paint_uniform_color([1, 0.706, 0])\n",
    "    target_temp.paint_uniform_color([0, 0.651, 0.929])\n",
    "    source_temp.transform(transformation)\n",
    "    o3d.visualization.draw_geometries([source_temp, target_temp])\n",
    "def draw_correspondences(source, target, correspondences):\n",
    "    source_temp = copy.deepcopy(source)\n",
    "    target_temp = copy.deepcopy(target)\n",
    "    #source_temp.paint_uniform_color([1, 0.706, 0])\n",
    "    #target_temp.paint_uniform_color([0, 0.651, 0.929])\n",
    "    o3d.visualization.draw_geometries([source_temp, #target_temp, \n",
    "                                       correspondences])\n",
    "    "
   ]
  },
  {
   "cell_type": "code",
   "execution_count": 11,
   "metadata": {},
   "outputs": [],
   "source": [
    "# ICP params\n",
    "ICP_THRESHOLD = 1.5\n",
    "trans_init = np.asarray([[1.0, 0.0, 0.0, 0.0],\n",
    "                         [0.0, 1.0, 0.0, 0.0],\n",
    "                         [0.0, 0.0, 1.0, 0.0],\n",
    "                         [0.0, 0.0, 0.0, 1.0]])"
   ]
  },
  {
   "cell_type": "code",
   "execution_count": 12,
   "metadata": {},
   "outputs": [],
   "source": [
    "# Visualize initial registration problem\n",
    "draw_registration_result(est_pcl, gt_pcl, trans_init)"
   ]
  },
  {
   "cell_type": "code",
   "execution_count": 13,
   "metadata": {},
   "outputs": [],
   "source": [
    "# Evaluate current fit between pointclouds\n",
    "evaluation = o3d.registration.evaluate_registration(est_pcl, gt_pcl, ICP_THRESHOLD, trans_init)"
   ]
  },
  {
   "cell_type": "code",
   "execution_count": 14,
   "metadata": {},
   "outputs": [
    {
     "name": "stdout",
     "output_type": "stream",
     "text": [
      "Initial registration\n",
      "registration::RegistrationResult with fitness = 1.000000, inlier_rmse = 0.164192, and correspondence_set size of 6206230\n",
      "Access transformation to get result.\n"
     ]
    }
   ],
   "source": [
    "print(\"Initial registration\")\n",
    "print(evaluation)"
   ]
  },
  {
   "cell_type": "code",
   "execution_count": 15,
   "metadata": {},
   "outputs": [
    {
     "name": "stdout",
     "output_type": "stream",
     "text": [
      "Apply point-to-point ICP\n"
     ]
    }
   ],
   "source": [
    "print(\"Apply point-to-point ICP\")\n",
    "reg_p2p = o3d.registration.registration_icp(\n",
    "    est_pcl, gt_pcl, ICP_THRESHOLD, trans_init,\n",
    "    o3d.registration.TransformationEstimationPointToPoint(),\n",
    "    o3d.registration.ICPConvergenceCriteria(max_iteration = 2000))\n",
    "correspondences = reg_p2p.correspondence_set"
   ]
  },
  {
   "cell_type": "code",
   "execution_count": 16,
   "metadata": {},
   "outputs": [
    {
     "name": "stdout",
     "output_type": "stream",
     "text": [
      "registration::RegistrationResult with fitness = 1.000000, inlier_rmse = 0.164166, and correspondence_set size of 6206230\n",
      "Access transformation to get result.\n",
      "\n",
      "Transformation is:\n",
      "[[ 9.99999991e-01  1.28896061e-04  4.50170245e-05 -3.42781472e-03]\n",
      " [-1.28896121e-04  9.99999992e-01  1.32122702e-06 -1.99446779e-03]\n",
      " [-4.50168538e-05 -1.32702953e-06  9.99999999e-01 -3.41601256e-03]\n",
      " [ 0.00000000e+00  0.00000000e+00  0.00000000e+00  1.00000000e+00]]\n",
      "\n",
      "Correspondence Set:\n",
      "std::vector<Eigen::Vector2i> with 6206230 elements.\n",
      "Use numpy.asarray() to access data.\n",
      "\n"
     ]
    }
   ],
   "source": [
    "print(reg_p2p)\n",
    "print(\"\")\n",
    "\n",
    "print(\"Transformation is:\")\n",
    "print(reg_p2p.transformation)\n",
    "print(\"\")\n",
    "\n",
    "print(\"Correspondence Set:\")\n",
    "print(reg_p2p.correspondence_set)\n",
    "print(\"\")"
   ]
  },
  {
   "cell_type": "code",
   "execution_count": 17,
   "metadata": {},
   "outputs": [],
   "source": [
    "# Draw Registration Result\n",
    "draw_registration_result(est_pcl, gt_pcl, reg_p2p.transformation)"
   ]
  },
  {
   "cell_type": "code",
   "execution_count": 18,
   "metadata": {},
   "outputs": [],
   "source": [
    "# Draw Only Correspondences\n",
    "c2c_lines = o3d.geometry.create_line_set_from_point_cloud_correspondences(est_pcl, gt_pcl, correspondences)\n",
    "o3d.visualization.draw_geometries([c2c_lines])"
   ]
  },
  {
   "cell_type": "code",
   "execution_count": 19,
   "metadata": {},
   "outputs": [],
   "source": [
    "# Draw PointClouds and Correspondences\n",
    "draw_correspondences(est_pcl, gt_pcl, c2c_lines)"
   ]
  },
  {
   "cell_type": "code",
   "execution_count": 20,
   "metadata": {},
   "outputs": [
    {
     "data": {
      "text/html": [
       "<div>\n",
       "<style scoped>\n",
       "    .dataframe tbody tr th:only-of-type {\n",
       "        vertical-align: middle;\n",
       "    }\n",
       "\n",
       "    .dataframe tbody tr th {\n",
       "        vertical-align: top;\n",
       "    }\n",
       "\n",
       "    .dataframe thead th {\n",
       "        text-align: right;\n",
       "    }\n",
       "</style>\n",
       "<table border=\"1\" class=\"dataframe\">\n",
       "  <thead>\n",
       "    <tr style=\"text-align: right;\">\n",
       "      <th></th>\n",
       "      <th>name</th>\n",
       "      <th>red</th>\n",
       "      <th>green</th>\n",
       "      <th>blue</th>\n",
       "      <th>alpha</th>\n",
       "      <th>id</th>\n",
       "    </tr>\n",
       "  </thead>\n",
       "  <tbody>\n",
       "    <tr>\n",
       "      <th>0</th>\n",
       "      <td>Graphics</td>\n",
       "      <td>26</td>\n",
       "      <td>127</td>\n",
       "      <td>81</td>\n",
       "      <td>255</td>\n",
       "      <td>0</td>\n",
       "    </tr>\n",
       "    <tr>\n",
       "      <th>1</th>\n",
       "      <td>Intercom</td>\n",
       "      <td>128</td>\n",
       "      <td>29</td>\n",
       "      <td>137</td>\n",
       "      <td>255</td>\n",
       "      <td>0</td>\n",
       "    </tr>\n",
       "    <tr>\n",
       "      <th>2</th>\n",
       "      <td>Lamp1</td>\n",
       "      <td>8</td>\n",
       "      <td>10</td>\n",
       "      <td>16</td>\n",
       "      <td>255</td>\n",
       "      <td>11</td>\n",
       "    </tr>\n",
       "    <tr>\n",
       "      <th>3</th>\n",
       "      <td>AC_Duct</td>\n",
       "      <td>80</td>\n",
       "      <td>184</td>\n",
       "      <td>210</td>\n",
       "      <td>255</td>\n",
       "      <td>0</td>\n",
       "    </tr>\n",
       "    <tr>\n",
       "      <th>4</th>\n",
       "      <td>Graffiti3</td>\n",
       "      <td>12</td>\n",
       "      <td>112</td>\n",
       "      <td>165</td>\n",
       "      <td>255</td>\n",
       "      <td>19</td>\n",
       "    </tr>\n",
       "    <tr>\n",
       "      <th>...</th>\n",
       "      <td>...</td>\n",
       "      <td>...</td>\n",
       "      <td>...</td>\n",
       "      <td>...</td>\n",
       "      <td>...</td>\n",
       "      <td>...</td>\n",
       "    </tr>\n",
       "    <tr>\n",
       "      <th>372</th>\n",
       "      <td>Tunnel_Service_Door_LOD0</td>\n",
       "      <td>67</td>\n",
       "      <td>53</td>\n",
       "      <td>173</td>\n",
       "      <td>255</td>\n",
       "      <td>19</td>\n",
       "    </tr>\n",
       "    <tr>\n",
       "      <th>373</th>\n",
       "      <td>MetalPillar2_SM</td>\n",
       "      <td>25</td>\n",
       "      <td>72</td>\n",
       "      <td>203</td>\n",
       "      <td>255</td>\n",
       "      <td>19</td>\n",
       "    </tr>\n",
       "    <tr>\n",
       "      <th>374</th>\n",
       "      <td>Vent_Smoke</td>\n",
       "      <td>138</td>\n",
       "      <td>98</td>\n",
       "      <td>4</td>\n",
       "      <td>255</td>\n",
       "      <td>0</td>\n",
       "    </tr>\n",
       "    <tr>\n",
       "      <th>375</th>\n",
       "      <td>SMPL_Female_Autonomous</td>\n",
       "      <td>35</td>\n",
       "      <td>213</td>\n",
       "      <td>234</td>\n",
       "      <td>255</td>\n",
       "      <td>20</td>\n",
       "    </tr>\n",
       "    <tr>\n",
       "      <th>376</th>\n",
       "      <td>SMPL_Male_Autonomous</td>\n",
       "      <td>35</td>\n",
       "      <td>213</td>\n",
       "      <td>234</td>\n",
       "      <td>255</td>\n",
       "      <td>20</td>\n",
       "    </tr>\n",
       "  </tbody>\n",
       "</table>\n",
       "<p>377 rows × 6 columns</p>\n",
       "</div>"
      ],
      "text/plain": [
       "                         name  red  green  blue  alpha  id\n",
       "0                    Graphics   26    127    81    255   0\n",
       "1                    Intercom  128     29   137    255   0\n",
       "2                       Lamp1    8     10    16    255  11\n",
       "3                     AC_Duct   80    184   210    255   0\n",
       "4                   Graffiti3   12    112   165    255  19\n",
       "..                        ...  ...    ...   ...    ...  ..\n",
       "372  Tunnel_Service_Door_LOD0   67     53   173    255  19\n",
       "373           MetalPillar2_SM   25     72   203    255  19\n",
       "374                Vent_Smoke  138     98     4    255   0\n",
       "375    SMPL_Female_Autonomous   35    213   234    255  20\n",
       "376      SMPL_Male_Autonomous   35    213   234    255  20\n",
       "\n",
       "[377 rows x 6 columns]"
      ]
     },
     "execution_count": 20,
     "metadata": {},
     "output_type": "execute_result"
    }
   ],
   "source": [
    "# Import Semantic Labels\n",
    "df = pd.read_csv('/home/yunchang/catkin_ws/src/Kimera-Semantics/kimera_semantics_ros/cfg/tesse_multiscene_underground1_segmentation_mapping.csv')\n",
    "df"
   ]
  },
  {
   "cell_type": "code",
   "execution_count": 44,
   "metadata": {},
   "outputs": [
    {
     "name": "stdout",
     "output_type": "stream",
     "text": [
      "1\n"
     ]
    }
   ],
   "source": [
    "normalized_df = copy.deepcopy(df)\n",
    "normalized_df['normalized_red'] = round(df['red'] / 255, 5)\n",
    "normalized_df['normalized_green'] = round(df['green'] / 255, 5)\n",
    "normalized_df['normalized_blue'] = round(df['blue'] / 255, 5)\n",
    "\n",
    "print(sum(np.isclose(normalized_df['normalized_red'], gt_pcl.colors[0][0])))"
   ]
  },
  {
   "cell_type": "code",
   "execution_count": 45,
   "metadata": {},
   "outputs": [],
   "source": [
    "from hashlib import sha1\n",
    "\n",
    "from numpy import all, array, uint8\n",
    "\n",
    "\n",
    "class hashable(object):\n",
    "    r'''Hashable wrapper for ndarray objects.\n",
    "        Instances of ndarray are not hashable, meaning they cannot be added to\n",
    "        sets, nor used as keys in dictionaries. This is by design - ndarray\n",
    "        objects are mutable, and therefore cannot reliably implement the\n",
    "        __hash__() method.\n",
    "        The hashable class allows a way around this limitation. It implements\n",
    "        the required methods for hashable objects in terms of an encapsulated\n",
    "        ndarray object. This can be either a copied instance (which is safer)\n",
    "        or the original object (which requires the user to be careful enough\n",
    "        not to modify it).\n",
    "    '''\n",
    "    def __init__(self, wrapped, tight=False):\n",
    "        r'''Creates a new hashable object encapsulating an ndarray.\n",
    "            wrapped\n",
    "                The wrapped ndarray.\n",
    "            tight\n",
    "                Optional. If True, a copy of the input ndaray is created.\n",
    "                Defaults to False.\n",
    "        '''\n",
    "        self.__tight = tight\n",
    "        self.__wrapped = array(wrapped) if tight else wrapped\n",
    "        self.__hash = int(sha1(wrapped.view(uint8)).hexdigest(), 16)\n",
    "\n",
    "    def __eq__(self, other):\n",
    "        return all(self.__wrapped == other.__wrapped)\n",
    "\n",
    "    def __hash__(self):\n",
    "        return self.__hash\n",
    "\n",
    "    def unwrap(self):\n",
    "        r'''Returns the encapsulated ndarray.\n",
    "            If the wrapper is \"tight\", a copy of the encapsulated ndarray is\n",
    "            returned. Otherwise, the encapsulated ndarray itself is returned.\n",
    "        '''\n",
    "        if self.__tight:\n",
    "            return array(self.__wrapped)\n",
    "\n"
   ]
  },
  {
   "cell_type": "code",
   "execution_count": 47,
   "metadata": {},
   "outputs": [
    {
     "data": {
      "text/html": [
       "<div>\n",
       "<style scoped>\n",
       "    .dataframe tbody tr th:only-of-type {\n",
       "        vertical-align: middle;\n",
       "    }\n",
       "\n",
       "    .dataframe tbody tr th {\n",
       "        vertical-align: top;\n",
       "    }\n",
       "\n",
       "    .dataframe thead th {\n",
       "        text-align: right;\n",
       "    }\n",
       "</style>\n",
       "<table border=\"1\" class=\"dataframe\">\n",
       "  <thead>\n",
       "    <tr style=\"text-align: right;\">\n",
       "      <th></th>\n",
       "      <th>name</th>\n",
       "      <th>red</th>\n",
       "      <th>green</th>\n",
       "      <th>blue</th>\n",
       "      <th>alpha</th>\n",
       "      <th>id</th>\n",
       "      <th>normalized_red</th>\n",
       "      <th>normalized_green</th>\n",
       "      <th>normalized_blue</th>\n",
       "      <th>hash</th>\n",
       "    </tr>\n",
       "  </thead>\n",
       "  <tbody>\n",
       "    <tr>\n",
       "      <th>0</th>\n",
       "      <td>Graphics</td>\n",
       "      <td>26</td>\n",
       "      <td>127</td>\n",
       "      <td>81</td>\n",
       "      <td>255</td>\n",
       "      <td>0</td>\n",
       "      <td>0.10196</td>\n",
       "      <td>0.49804</td>\n",
       "      <td>0.31765</td>\n",
       "      <td>0.101960.498040.31765</td>\n",
       "    </tr>\n",
       "    <tr>\n",
       "      <th>1</th>\n",
       "      <td>Intercom</td>\n",
       "      <td>128</td>\n",
       "      <td>29</td>\n",
       "      <td>137</td>\n",
       "      <td>255</td>\n",
       "      <td>0</td>\n",
       "      <td>0.50196</td>\n",
       "      <td>0.11373</td>\n",
       "      <td>0.53725</td>\n",
       "      <td>0.501960.113730.53725</td>\n",
       "    </tr>\n",
       "    <tr>\n",
       "      <th>2</th>\n",
       "      <td>Lamp1</td>\n",
       "      <td>8</td>\n",
       "      <td>10</td>\n",
       "      <td>16</td>\n",
       "      <td>255</td>\n",
       "      <td>11</td>\n",
       "      <td>0.03137</td>\n",
       "      <td>0.03922</td>\n",
       "      <td>0.06275</td>\n",
       "      <td>0.031370.039220.06275</td>\n",
       "    </tr>\n",
       "    <tr>\n",
       "      <th>3</th>\n",
       "      <td>AC_Duct</td>\n",
       "      <td>80</td>\n",
       "      <td>184</td>\n",
       "      <td>210</td>\n",
       "      <td>255</td>\n",
       "      <td>0</td>\n",
       "      <td>0.31373</td>\n",
       "      <td>0.72157</td>\n",
       "      <td>0.82353</td>\n",
       "      <td>0.313730.721570.82353</td>\n",
       "    </tr>\n",
       "    <tr>\n",
       "      <th>4</th>\n",
       "      <td>Graffiti3</td>\n",
       "      <td>12</td>\n",
       "      <td>112</td>\n",
       "      <td>165</td>\n",
       "      <td>255</td>\n",
       "      <td>19</td>\n",
       "      <td>0.04706</td>\n",
       "      <td>0.43922</td>\n",
       "      <td>0.64706</td>\n",
       "      <td>0.047060.439220.64706</td>\n",
       "    </tr>\n",
       "    <tr>\n",
       "      <th>...</th>\n",
       "      <td>...</td>\n",
       "      <td>...</td>\n",
       "      <td>...</td>\n",
       "      <td>...</td>\n",
       "      <td>...</td>\n",
       "      <td>...</td>\n",
       "      <td>...</td>\n",
       "      <td>...</td>\n",
       "      <td>...</td>\n",
       "      <td>...</td>\n",
       "    </tr>\n",
       "    <tr>\n",
       "      <th>372</th>\n",
       "      <td>Tunnel_Service_Door_LOD0</td>\n",
       "      <td>67</td>\n",
       "      <td>53</td>\n",
       "      <td>173</td>\n",
       "      <td>255</td>\n",
       "      <td>19</td>\n",
       "      <td>0.26275</td>\n",
       "      <td>0.20784</td>\n",
       "      <td>0.67843</td>\n",
       "      <td>0.262750.207840.67843</td>\n",
       "    </tr>\n",
       "    <tr>\n",
       "      <th>373</th>\n",
       "      <td>MetalPillar2_SM</td>\n",
       "      <td>25</td>\n",
       "      <td>72</td>\n",
       "      <td>203</td>\n",
       "      <td>255</td>\n",
       "      <td>19</td>\n",
       "      <td>0.09804</td>\n",
       "      <td>0.28235</td>\n",
       "      <td>0.79608</td>\n",
       "      <td>0.098040.282350.79608</td>\n",
       "    </tr>\n",
       "    <tr>\n",
       "      <th>374</th>\n",
       "      <td>Vent_Smoke</td>\n",
       "      <td>138</td>\n",
       "      <td>98</td>\n",
       "      <td>4</td>\n",
       "      <td>255</td>\n",
       "      <td>0</td>\n",
       "      <td>0.54118</td>\n",
       "      <td>0.38431</td>\n",
       "      <td>0.01569</td>\n",
       "      <td>0.541180.384310.01569</td>\n",
       "    </tr>\n",
       "    <tr>\n",
       "      <th>375</th>\n",
       "      <td>SMPL_Female_Autonomous</td>\n",
       "      <td>35</td>\n",
       "      <td>213</td>\n",
       "      <td>234</td>\n",
       "      <td>255</td>\n",
       "      <td>20</td>\n",
       "      <td>0.13725</td>\n",
       "      <td>0.83529</td>\n",
       "      <td>0.91765</td>\n",
       "      <td>0.137250.835290.91765</td>\n",
       "    </tr>\n",
       "    <tr>\n",
       "      <th>376</th>\n",
       "      <td>SMPL_Male_Autonomous</td>\n",
       "      <td>35</td>\n",
       "      <td>213</td>\n",
       "      <td>234</td>\n",
       "      <td>255</td>\n",
       "      <td>20</td>\n",
       "      <td>0.13725</td>\n",
       "      <td>0.83529</td>\n",
       "      <td>0.91765</td>\n",
       "      <td>0.137250.835290.91765</td>\n",
       "    </tr>\n",
       "  </tbody>\n",
       "</table>\n",
       "<p>377 rows × 10 columns</p>\n",
       "</div>"
      ],
      "text/plain": [
       "                         name  red  green  blue  alpha  id  normalized_red  \\\n",
       "0                    Graphics   26    127    81    255   0         0.10196   \n",
       "1                    Intercom  128     29   137    255   0         0.50196   \n",
       "2                       Lamp1    8     10    16    255  11         0.03137   \n",
       "3                     AC_Duct   80    184   210    255   0         0.31373   \n",
       "4                   Graffiti3   12    112   165    255  19         0.04706   \n",
       "..                        ...  ...    ...   ...    ...  ..             ...   \n",
       "372  Tunnel_Service_Door_LOD0   67     53   173    255  19         0.26275   \n",
       "373           MetalPillar2_SM   25     72   203    255  19         0.09804   \n",
       "374                Vent_Smoke  138     98     4    255   0         0.54118   \n",
       "375    SMPL_Female_Autonomous   35    213   234    255  20         0.13725   \n",
       "376      SMPL_Male_Autonomous   35    213   234    255  20         0.13725   \n",
       "\n",
       "     normalized_green  normalized_blue                   hash  \n",
       "0             0.49804          0.31765  0.101960.498040.31765  \n",
       "1             0.11373          0.53725  0.501960.113730.53725  \n",
       "2             0.03922          0.06275  0.031370.039220.06275  \n",
       "3             0.72157          0.82353  0.313730.721570.82353  \n",
       "4             0.43922          0.64706  0.047060.439220.64706  \n",
       "..                ...              ...                    ...  \n",
       "372           0.20784          0.67843  0.262750.207840.67843  \n",
       "373           0.28235          0.79608  0.098040.282350.79608  \n",
       "374           0.38431          0.01569  0.541180.384310.01569  \n",
       "375           0.83529          0.91765  0.137250.835290.91765  \n",
       "376           0.83529          0.91765  0.137250.835290.91765  \n",
       "\n",
       "[377 rows x 10 columns]"
      ]
     },
     "execution_count": 47,
     "metadata": {},
     "output_type": "execute_result"
    }
   ],
   "source": [
    "# No need to hash, we have ids now\n",
    "red_col = df['red'].to_numpy()\n",
    "blue_col = df['blue'].to_numpy()\n",
    "green_col = df['green'].to_numpy()\n",
    "\n",
    "def f(x):    \n",
    "    return str(x['normalized_red'])+str(x['normalized_green'])+str(x['normalized_blue'])\n",
    "\n",
    "hashed_df = copy.deepcopy(normalized_df)\n",
    "hashed_df['hash'] = hashed_df.apply(f, axis=1)\n",
    "hashed_df"
   ]
  },
  {
   "cell_type": "code",
   "execution_count": 48,
   "metadata": {},
   "outputs": [],
   "source": [
    "# Generate table from color to id.\n",
    "def label_from_color(color):\n",
    "    norm_r = round(color[0], 5)\n",
    "    norm_g = round(color[1], 5)\n",
    "    norm_b = round(color[2], 5)\n",
    "    # TODO(Toni): can be greatly optimized... TO SLOW NOW\n",
    "    # TODO(Toni): you are comparing floats with == ......\n",
    "#     print(normalized_df.loc[(normalized_df['normalized_red'] == norm_r) & \n",
    "#                   (normalized_df['normalized_green'] == norm_g) & \n",
    "#                   (normalized_df['normalized_blue'] == norm_b)])\n",
    "    label_list = normalized_df.loc[(normalized_df['normalized_red'] == norm_r) & \n",
    "                  (normalized_df['normalized_green'] == norm_g) & \n",
    "                  (normalized_df['normalized_blue'] == norm_b)]['id'].unique().tolist()\n",
    "    return label_list[0]"
   ]
  },
  {
   "cell_type": "code",
   "execution_count": 49,
   "metadata": {},
   "outputs": [],
   "source": [
    "def calc_corresp(est_pcl, gt_pcl, correspondences):\n",
    "    total_negative_matches = 0\n",
    "    total_positive_matches = 0\n",
    "    total_correspondences = len(correspondences)\n",
    "    count = 0\n",
    "    for correspondence in correspondences:\n",
    "        est_label_id = label_from_color(est_pcl.colors[correspondence[0]])\n",
    "        gt_label_id = label_from_color(gt_pcl.colors[correspondence[1]])\n",
    "        if est_label_id == gt_label_id:\n",
    "            total_positive_matches += 1\n",
    "        else: \n",
    "            total_negative_matches += 1\n",
    "        count += 1\n",
    "#         if np.allclose(est_pcl.colors[correspondence[0]],\n",
    "#                        gt_pcl.colors[correspondence[1]]):\n",
    "#             total_positive_matches += 1\n",
    "#         else:\n",
    "#             total_negative_matches += 1\n",
    "\n",
    "    print(\"Positive matches: \",total_positive_matches)\n",
    "    print(\"Negative matches: \", total_negative_matches)\n",
    "    print(\"Total correspondences: \", total_correspondences)\n",
    "    assert(total_correspondences == total_negative_matches + total_positive_matches)\n",
    "    print (\"Positive: {}  % \".format(total_positive_matches / total_correspondences * 100))\n",
    "    print (\"Negative: {}  % \".format(total_negative_matches / total_correspondences * 100))"
   ]
  },
  {
   "cell_type": "code",
   "execution_count": 50,
   "metadata": {},
   "outputs": [
    {
     "name": "stdout",
     "output_type": "stream",
     "text": [
      "Positive color matches:  5961670\n",
      "Negative color matches:  244560\n",
      "Total correspondences:  6206230\n",
      "Positive: 96.05944349468196  % \n",
      "Negative: 3.9405565053180434  % \n"
     ]
    }
   ],
   "source": [
    "calc_corresp(est_pcl, gt_pcl, correspondences)"
   ]
  },
  {
   "cell_type": "code",
   "execution_count": 25,
   "metadata": {},
   "outputs": [
    {
     "name": "stdout",
     "output_type": "stream",
     "text": [
      "[0.57254902 0.70980392 0.37647059]\n"
     ]
    }
   ],
   "source": [
    "print(est_pcl.colors[0])"
   ]
  },
  {
   "cell_type": "code",
   "execution_count": 42,
   "metadata": {},
   "outputs": [
    {
     "name": "stdout",
     "output_type": "stream",
     "text": [
      "{0: 0, 11: 0, 19: 0, 4: 0, 18: 0, 10: 0, 3: 0, 14: 0, 1: 0, 7: 0, 6: 0, 15: 0, 8: 0, 20: 0}\n"
     ]
    }
   ],
   "source": [
    "# Compare labels between correspondences:\n",
    "total_label_correspondences = {i:0 for i in normalized_df['id'].unique()}\n",
    "print(total_label_correspondences)\n",
    "# Initialize dictionaries to 0:\n",
    "total_positive_matches = {i:0 for i in normalized_df['id'].unique()}\n",
    "total_negative_matches = copy.deepcopy(total_positive_matches)"
   ]
  },
  {
   "cell_type": "code",
   "execution_count": 37,
   "metadata": {},
   "outputs": [],
   "source": [
    "def calc_per_label_corresp():\n",
    "    for correspondence in correspondences:\n",
    "        est_pcl_color = est_pcl.colors[correspondence[0]]\n",
    "        color_hash = str(est_pcl_color[0])+str(est_pcl_color[1])+str(est_pcl_color[2])\n",
    "        label_id = label_from_color(est_pcl_color)\n",
    "        if np.allclose(est_pcl_color, gt_pcl.colors[correspondence[1]]):\n",
    "            total_positive_matches[label_id] += 1\n",
    "        else:\n",
    "            total_negative_matches[label_id] += 1"
   ]
  },
  {
   "cell_type": "code",
   "execution_count": 38,
   "metadata": {},
   "outputs": [],
   "source": [
    "calc_per_label_corresp()"
   ]
  },
  {
   "cell_type": "code",
   "execution_count": 41,
   "metadata": {},
   "outputs": [
    {
     "name": "stdout",
     "output_type": "stream",
     "text": [
      "Dict for total_positive_matches: \n",
      " {0: 0, 11: 0, 19: 4947, 4: 0, 18: 0, 10: 2165, 3: 44071, 14: 1858, 1: 0, 7: 10489, 6: 4186, 15: 918, 8: 0, 20: 0}\n",
      "Dict for total_negative_matches: \n",
      " {0: 420691, 11: 118628, 19: 1250337, 4: 1954055, 18: 16096, 10: 372, 3: 1796593, 14: 60801, 1: 52579, 7: 102786, 6: 3841, 15: 360817, 8: 0, 20: 0}\n",
      "Dict for total_label_correspondences: \n",
      " {0: 420691, 11: 118628, 19: 1255284, 4: 1954055, 18: 16096, 10: 2537, 3: 1840664, 14: 62659, 1: 52579, 7: 113275, 6: 8027, 15: 361735, 8: 0, 20: 0}\n",
      "ID: 0\n",
      "Positive: 0.0  % \n",
      "Negative: 100.0  % \n",
      "ID: 11\n",
      "Positive: 0.0  % \n",
      "Negative: 100.0  % \n",
      "ID: 19\n",
      "Positive: 0.39409408548185115  % \n",
      "Negative: 99.60590591451815  % \n",
      "ID: 4\n",
      "Positive: 0.0  % \n",
      "Negative: 100.0  % \n",
      "ID: 18\n",
      "Positive: 0.0  % \n",
      "Negative: 100.0  % \n",
      "ID: 10\n",
      "Positive: 85.33701221915648  % \n",
      "Negative: 14.662987780843517  % \n",
      "ID: 3\n",
      "Positive: 2.394299013834138  % \n",
      "Negative: 97.60570098616587  % \n",
      "ID: 14\n",
      "Positive: 2.965256387749565  % \n",
      "Negative: 97.03474361225044  % \n",
      "ID: 1\n",
      "Positive: 0.0  % \n",
      "Negative: 100.0  % \n",
      "ID: 7\n",
      "Positive: 9.259766056058265  % \n",
      "Negative: 90.74023394394175  % \n",
      "ID: 6\n",
      "Positive: 52.14899713467048  % \n",
      "Negative: 47.85100286532951  % \n",
      "ID: 15\n",
      "Positive: 0.25377693615492003  % \n",
      "Negative: 99.74622306384508  % \n",
      "Summary Positive label matches: 1.1058887601651888 % \n",
      "Summary Negative label matches: 98.89411123983481 % \n"
     ]
    }
   ],
   "source": [
    "print(\"Dict for total_positive_matches: \\n\", total_positive_matches)\n",
    "print(\"Dict for total_negative_matches: \\n\", total_negative_matches)\n",
    "for label_id in df['id'].unique().tolist():\n",
    "    total_label_correspondences[label_id] = (total_positive_matches[label_id] + total_negative_matches[label_id])\n",
    "print(\"Dict for total_label_correspondences: \\n\", total_label_correspondences)\n",
    "positive_match = 0\n",
    "negative_match = 0\n",
    "correspondences = 0\n",
    "for label_id in df['id'].unique().tolist():\n",
    "    positive_match += total_positive_matches[label_id]\n",
    "    negative_match += total_negative_matches[label_id]\n",
    "    correspondences += total_label_correspondences[label_id]\n",
    "    if (total_label_correspondences[label_id] > 0):\n",
    "        print (\"ID: {}\".format(label_id))\n",
    "        print (\"Positive: {}  % \".format(total_positive_matches[label_id] / total_label_correspondences[label_id] * 100))\n",
    "        print (\"Negative: {}  % \".format(total_negative_matches[label_id] / total_label_correspondences[label_id] * 100))\n",
    "print(\"Summary Positive label matches: {} % \".format(positive_match / correspondences * 100))\n",
    "print(\"Summary Negative label matches: {} % \".format(negative_match / correspondences * 100))"
   ]
  },
  {
   "cell_type": "code",
   "execution_count": null,
   "metadata": {},
   "outputs": [],
   "source": []
  }
 ],
 "metadata": {
  "kernelspec": {
   "display_name": "Python 3",
   "language": "python",
   "name": "python3"
  },
  "language_info": {
   "codemirror_mode": {
    "name": "ipython",
    "version": 3
   },
   "file_extension": ".py",
   "mimetype": "text/x-python",
   "name": "python",
   "nbconvert_exporter": "python",
   "pygments_lexer": "ipython3",
   "version": "3.6.9"
  }
 },
 "nbformat": 4,
 "nbformat_minor": 2
}
